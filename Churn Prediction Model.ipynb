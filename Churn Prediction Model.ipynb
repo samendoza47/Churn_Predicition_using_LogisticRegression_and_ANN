{
 "cells": [
  {
   "cell_type": "markdown",
   "id": "c11a8521",
   "metadata": {},
   "source": [
    "# Table of Contents\n",
    "\n",
    "1. [Loading the Dataset](#1.-Loading-the-Dataset)\n",
    "2. [Data Preparation](#2.-Data-Preparation)    \n",
    "      2.1 [Checking missing values](#2.1-Checking-missing-values)        \n",
    "      2.2 [Encoding categorical data](#2.2-Encoding-categorical-data)      \n",
    "      2.3 [Data Normalization](#2.3-Data-Normalization)\n",
    "3. [Feature Engineering](#3.-Feature-Engineering)\n",
    "4. [Data Modeling](#4.-Data-Modeling)   \n",
    "      4.1[Logistic Regression Model](#4.1-Model-Training-with-Logistic-Regression)\n",
    "\n",
    "5. [Performance Measurement](#5.-Performance-measurement)\n",
    "6. [Visualize Matrix Confusion](#6.-Visualizing-Confusion-Matrix-using-Heatmap)\n",
    "7. [Building the Artificial Neural Network](#7.-Building-the-Artificial-Neural-Network)  \n",
    "      7.1 [DefineKeras Model](#7.1-Define-Kera-Model)  \n",
    "      7.2 [Compiling the ANN](#7.2-Compiling-the-ANN)\n",
    "8. [ANN Performance measurement](#8.-ANN-Performance-measurement)\n",
    "9. [Visualizing Confusion Matrix using Heatmap](#9.-Visualizing-Confusion-Matrix-using-Heatmap)\n",
    "10. [Compare performance between two algorithms](#10.-Compare0-performance-between-two-algorithms)\n"
   ]
  },
  {
   "cell_type": "markdown",
   "id": "b4edae79",
   "metadata": {},
   "source": [
    "# 1. Loading the Dataset"
   ]
  },
  {
   "cell_type": "code",
   "execution_count": 1,
   "id": "16209ff5",
   "metadata": {},
   "outputs": [
    {
     "data": {
      "text/html": [
       "<div>\n",
       "<style scoped>\n",
       "    .dataframe tbody tr th:only-of-type {\n",
       "        vertical-align: middle;\n",
       "    }\n",
       "\n",
       "    .dataframe tbody tr th {\n",
       "        vertical-align: top;\n",
       "    }\n",
       "\n",
       "    .dataframe thead th {\n",
       "        text-align: right;\n",
       "    }\n",
       "</style>\n",
       "<table border=\"1\" class=\"dataframe\">\n",
       "  <thead>\n",
       "    <tr style=\"text-align: right;\">\n",
       "      <th></th>\n",
       "      <th>RowNumber</th>\n",
       "      <th>CustomerId</th>\n",
       "      <th>Surname</th>\n",
       "      <th>CreditScore</th>\n",
       "      <th>Geography</th>\n",
       "      <th>Gender</th>\n",
       "      <th>Age</th>\n",
       "      <th>Tenure</th>\n",
       "      <th>Balance</th>\n",
       "      <th>NumOfProducts</th>\n",
       "      <th>HasCrCard</th>\n",
       "      <th>IsActiveMember</th>\n",
       "      <th>EstimatedSalary</th>\n",
       "      <th>Exited</th>\n",
       "    </tr>\n",
       "  </thead>\n",
       "  <tbody>\n",
       "    <tr>\n",
       "      <th>0</th>\n",
       "      <td>1</td>\n",
       "      <td>15634602</td>\n",
       "      <td>Hargrave</td>\n",
       "      <td>619</td>\n",
       "      <td>France</td>\n",
       "      <td>Female</td>\n",
       "      <td>42</td>\n",
       "      <td>2</td>\n",
       "      <td>0.00</td>\n",
       "      <td>1</td>\n",
       "      <td>1</td>\n",
       "      <td>1</td>\n",
       "      <td>101348.88</td>\n",
       "      <td>1</td>\n",
       "    </tr>\n",
       "    <tr>\n",
       "      <th>1</th>\n",
       "      <td>2</td>\n",
       "      <td>15647311</td>\n",
       "      <td>Hill</td>\n",
       "      <td>608</td>\n",
       "      <td>Spain</td>\n",
       "      <td>Female</td>\n",
       "      <td>41</td>\n",
       "      <td>1</td>\n",
       "      <td>83807.86</td>\n",
       "      <td>1</td>\n",
       "      <td>0</td>\n",
       "      <td>1</td>\n",
       "      <td>112542.58</td>\n",
       "      <td>0</td>\n",
       "    </tr>\n",
       "    <tr>\n",
       "      <th>2</th>\n",
       "      <td>3</td>\n",
       "      <td>15619304</td>\n",
       "      <td>Onio</td>\n",
       "      <td>502</td>\n",
       "      <td>France</td>\n",
       "      <td>Female</td>\n",
       "      <td>42</td>\n",
       "      <td>8</td>\n",
       "      <td>159660.80</td>\n",
       "      <td>3</td>\n",
       "      <td>1</td>\n",
       "      <td>0</td>\n",
       "      <td>113931.57</td>\n",
       "      <td>1</td>\n",
       "    </tr>\n",
       "    <tr>\n",
       "      <th>3</th>\n",
       "      <td>4</td>\n",
       "      <td>15701354</td>\n",
       "      <td>Boni</td>\n",
       "      <td>699</td>\n",
       "      <td>France</td>\n",
       "      <td>Female</td>\n",
       "      <td>39</td>\n",
       "      <td>1</td>\n",
       "      <td>0.00</td>\n",
       "      <td>2</td>\n",
       "      <td>0</td>\n",
       "      <td>0</td>\n",
       "      <td>93826.63</td>\n",
       "      <td>0</td>\n",
       "    </tr>\n",
       "    <tr>\n",
       "      <th>4</th>\n",
       "      <td>5</td>\n",
       "      <td>15737888</td>\n",
       "      <td>Mitchell</td>\n",
       "      <td>850</td>\n",
       "      <td>Spain</td>\n",
       "      <td>Female</td>\n",
       "      <td>43</td>\n",
       "      <td>2</td>\n",
       "      <td>125510.82</td>\n",
       "      <td>1</td>\n",
       "      <td>1</td>\n",
       "      <td>1</td>\n",
       "      <td>79084.10</td>\n",
       "      <td>0</td>\n",
       "    </tr>\n",
       "  </tbody>\n",
       "</table>\n",
       "</div>"
      ],
      "text/plain": [
       "   RowNumber  CustomerId   Surname  CreditScore Geography  Gender  Age  \\\n",
       "0          1    15634602  Hargrave          619    France  Female   42   \n",
       "1          2    15647311      Hill          608     Spain  Female   41   \n",
       "2          3    15619304      Onio          502    France  Female   42   \n",
       "3          4    15701354      Boni          699    France  Female   39   \n",
       "4          5    15737888  Mitchell          850     Spain  Female   43   \n",
       "\n",
       "   Tenure    Balance  NumOfProducts  HasCrCard  IsActiveMember  \\\n",
       "0       2       0.00              1          1               1   \n",
       "1       1   83807.86              1          0               1   \n",
       "2       8  159660.80              3          1               0   \n",
       "3       1       0.00              2          0               0   \n",
       "4       2  125510.82              1          1               1   \n",
       "\n",
       "   EstimatedSalary  Exited  \n",
       "0        101348.88       1  \n",
       "1        112542.58       0  \n",
       "2        113931.57       1  \n",
       "3         93826.63       0  \n",
       "4         79084.10       0  "
      ]
     },
     "execution_count": 1,
     "metadata": {},
     "output_type": "execute_result"
    }
   ],
   "source": [
    "# Importing the libraries\n",
    "import numpy as np\n",
    "import matplotlib.pyplot as plt\n",
    "import pandas as pd\n",
    "import seaborn as sns\n",
    "\n",
    "dataset = pd.read_csv('Churn_Modelling.csv')\n",
    "\n",
    "dataset.head()\n"
   ]
  },
  {
   "cell_type": "code",
   "execution_count": 2,
   "id": "a614733a",
   "metadata": {},
   "outputs": [
    {
     "data": {
      "text/plain": [
       "(10000, 14)"
      ]
     },
     "execution_count": 2,
     "metadata": {},
     "output_type": "execute_result"
    }
   ],
   "source": [
    "dataset.shape"
   ]
  },
  {
   "cell_type": "code",
   "execution_count": 3,
   "id": "f80df255",
   "metadata": {},
   "outputs": [
    {
     "data": {
      "text/html": [
       "<div>\n",
       "<style scoped>\n",
       "    .dataframe tbody tr th:only-of-type {\n",
       "        vertical-align: middle;\n",
       "    }\n",
       "\n",
       "    .dataframe tbody tr th {\n",
       "        vertical-align: top;\n",
       "    }\n",
       "\n",
       "    .dataframe thead th {\n",
       "        text-align: right;\n",
       "    }\n",
       "</style>\n",
       "<table border=\"1\" class=\"dataframe\">\n",
       "  <thead>\n",
       "    <tr style=\"text-align: right;\">\n",
       "      <th></th>\n",
       "      <th>count</th>\n",
       "      <th>mean</th>\n",
       "      <th>std</th>\n",
       "      <th>min</th>\n",
       "      <th>25%</th>\n",
       "      <th>50%</th>\n",
       "      <th>75%</th>\n",
       "      <th>max</th>\n",
       "    </tr>\n",
       "  </thead>\n",
       "  <tbody>\n",
       "    <tr>\n",
       "      <th>RowNumber</th>\n",
       "      <td>10000.0</td>\n",
       "      <td>5.000500e+03</td>\n",
       "      <td>2886.895680</td>\n",
       "      <td>1.00</td>\n",
       "      <td>2500.75</td>\n",
       "      <td>5.000500e+03</td>\n",
       "      <td>7.500250e+03</td>\n",
       "      <td>10000.00</td>\n",
       "    </tr>\n",
       "    <tr>\n",
       "      <th>CustomerId</th>\n",
       "      <td>10000.0</td>\n",
       "      <td>1.569094e+07</td>\n",
       "      <td>71936.186123</td>\n",
       "      <td>15565701.00</td>\n",
       "      <td>15628528.25</td>\n",
       "      <td>1.569074e+07</td>\n",
       "      <td>1.575323e+07</td>\n",
       "      <td>15815690.00</td>\n",
       "    </tr>\n",
       "    <tr>\n",
       "      <th>CreditScore</th>\n",
       "      <td>10000.0</td>\n",
       "      <td>6.505288e+02</td>\n",
       "      <td>96.653299</td>\n",
       "      <td>350.00</td>\n",
       "      <td>584.00</td>\n",
       "      <td>6.520000e+02</td>\n",
       "      <td>7.180000e+02</td>\n",
       "      <td>850.00</td>\n",
       "    </tr>\n",
       "    <tr>\n",
       "      <th>Age</th>\n",
       "      <td>10000.0</td>\n",
       "      <td>3.892180e+01</td>\n",
       "      <td>10.487806</td>\n",
       "      <td>18.00</td>\n",
       "      <td>32.00</td>\n",
       "      <td>3.700000e+01</td>\n",
       "      <td>4.400000e+01</td>\n",
       "      <td>92.00</td>\n",
       "    </tr>\n",
       "    <tr>\n",
       "      <th>Tenure</th>\n",
       "      <td>10000.0</td>\n",
       "      <td>5.012800e+00</td>\n",
       "      <td>2.892174</td>\n",
       "      <td>0.00</td>\n",
       "      <td>3.00</td>\n",
       "      <td>5.000000e+00</td>\n",
       "      <td>7.000000e+00</td>\n",
       "      <td>10.00</td>\n",
       "    </tr>\n",
       "    <tr>\n",
       "      <th>Balance</th>\n",
       "      <td>10000.0</td>\n",
       "      <td>7.648589e+04</td>\n",
       "      <td>62397.405202</td>\n",
       "      <td>0.00</td>\n",
       "      <td>0.00</td>\n",
       "      <td>9.719854e+04</td>\n",
       "      <td>1.276442e+05</td>\n",
       "      <td>250898.09</td>\n",
       "    </tr>\n",
       "    <tr>\n",
       "      <th>NumOfProducts</th>\n",
       "      <td>10000.0</td>\n",
       "      <td>1.530200e+00</td>\n",
       "      <td>0.581654</td>\n",
       "      <td>1.00</td>\n",
       "      <td>1.00</td>\n",
       "      <td>1.000000e+00</td>\n",
       "      <td>2.000000e+00</td>\n",
       "      <td>4.00</td>\n",
       "    </tr>\n",
       "    <tr>\n",
       "      <th>HasCrCard</th>\n",
       "      <td>10000.0</td>\n",
       "      <td>7.055000e-01</td>\n",
       "      <td>0.455840</td>\n",
       "      <td>0.00</td>\n",
       "      <td>0.00</td>\n",
       "      <td>1.000000e+00</td>\n",
       "      <td>1.000000e+00</td>\n",
       "      <td>1.00</td>\n",
       "    </tr>\n",
       "    <tr>\n",
       "      <th>IsActiveMember</th>\n",
       "      <td>10000.0</td>\n",
       "      <td>5.151000e-01</td>\n",
       "      <td>0.499797</td>\n",
       "      <td>0.00</td>\n",
       "      <td>0.00</td>\n",
       "      <td>1.000000e+00</td>\n",
       "      <td>1.000000e+00</td>\n",
       "      <td>1.00</td>\n",
       "    </tr>\n",
       "    <tr>\n",
       "      <th>EstimatedSalary</th>\n",
       "      <td>10000.0</td>\n",
       "      <td>1.000902e+05</td>\n",
       "      <td>57510.492818</td>\n",
       "      <td>11.58</td>\n",
       "      <td>51002.11</td>\n",
       "      <td>1.001939e+05</td>\n",
       "      <td>1.493882e+05</td>\n",
       "      <td>199992.48</td>\n",
       "    </tr>\n",
       "    <tr>\n",
       "      <th>Exited</th>\n",
       "      <td>10000.0</td>\n",
       "      <td>2.037000e-01</td>\n",
       "      <td>0.402769</td>\n",
       "      <td>0.00</td>\n",
       "      <td>0.00</td>\n",
       "      <td>0.000000e+00</td>\n",
       "      <td>0.000000e+00</td>\n",
       "      <td>1.00</td>\n",
       "    </tr>\n",
       "  </tbody>\n",
       "</table>\n",
       "</div>"
      ],
      "text/plain": [
       "                   count          mean           std          min  \\\n",
       "RowNumber        10000.0  5.000500e+03   2886.895680         1.00   \n",
       "CustomerId       10000.0  1.569094e+07  71936.186123  15565701.00   \n",
       "CreditScore      10000.0  6.505288e+02     96.653299       350.00   \n",
       "Age              10000.0  3.892180e+01     10.487806        18.00   \n",
       "Tenure           10000.0  5.012800e+00      2.892174         0.00   \n",
       "Balance          10000.0  7.648589e+04  62397.405202         0.00   \n",
       "NumOfProducts    10000.0  1.530200e+00      0.581654         1.00   \n",
       "HasCrCard        10000.0  7.055000e-01      0.455840         0.00   \n",
       "IsActiveMember   10000.0  5.151000e-01      0.499797         0.00   \n",
       "EstimatedSalary  10000.0  1.000902e+05  57510.492818        11.58   \n",
       "Exited           10000.0  2.037000e-01      0.402769         0.00   \n",
       "\n",
       "                         25%           50%           75%          max  \n",
       "RowNumber            2500.75  5.000500e+03  7.500250e+03     10000.00  \n",
       "CustomerId       15628528.25  1.569074e+07  1.575323e+07  15815690.00  \n",
       "CreditScore           584.00  6.520000e+02  7.180000e+02       850.00  \n",
       "Age                    32.00  3.700000e+01  4.400000e+01        92.00  \n",
       "Tenure                  3.00  5.000000e+00  7.000000e+00        10.00  \n",
       "Balance                 0.00  9.719854e+04  1.276442e+05    250898.09  \n",
       "NumOfProducts           1.00  1.000000e+00  2.000000e+00         4.00  \n",
       "HasCrCard               0.00  1.000000e+00  1.000000e+00         1.00  \n",
       "IsActiveMember          0.00  1.000000e+00  1.000000e+00         1.00  \n",
       "EstimatedSalary     51002.11  1.001939e+05  1.493882e+05    199992.48  \n",
       "Exited                  0.00  0.000000e+00  0.000000e+00         1.00  "
      ]
     },
     "execution_count": 3,
     "metadata": {},
     "output_type": "execute_result"
    }
   ],
   "source": [
    "#To see statistical details of the dataset,\n",
    "dataset.describe().T"
   ]
  },
  {
   "cell_type": "markdown",
   "id": "7cf38fe7",
   "metadata": {},
   "source": [
    "# 2. Data Preparation\n",
    "\n",
    "\n",
    "### 2.1 Checking missing values"
   ]
  },
  {
   "cell_type": "code",
   "execution_count": 4,
   "id": "045cd842",
   "metadata": {},
   "outputs": [
    {
     "name": "stdout",
     "output_type": "stream",
     "text": [
      "<class 'pandas.core.frame.DataFrame'>\n",
      "RangeIndex: 10000 entries, 0 to 9999\n",
      "Data columns (total 14 columns):\n",
      " #   Column           Non-Null Count  Dtype  \n",
      "---  ------           --------------  -----  \n",
      " 0   RowNumber        10000 non-null  int64  \n",
      " 1   CustomerId       10000 non-null  int64  \n",
      " 2   Surname          10000 non-null  object \n",
      " 3   CreditScore      10000 non-null  int64  \n",
      " 4   Geography        10000 non-null  object \n",
      " 5   Gender           10000 non-null  object \n",
      " 6   Age              10000 non-null  int64  \n",
      " 7   Tenure           10000 non-null  int64  \n",
      " 8   Balance          10000 non-null  float64\n",
      " 9   NumOfProducts    10000 non-null  int64  \n",
      " 10  HasCrCard        10000 non-null  int64  \n",
      " 11  IsActiveMember   10000 non-null  int64  \n",
      " 12  EstimatedSalary  10000 non-null  float64\n",
      " 13  Exited           10000 non-null  int64  \n",
      "dtypes: float64(2), int64(9), object(3)\n",
      "memory usage: 1.1+ MB\n"
     ]
    }
   ],
   "source": [
    "# looking for the datatypes\n",
    "dataset.info()"
   ]
  },
  {
   "cell_type": "code",
   "execution_count": 5,
   "id": "f5aa7fc5",
   "metadata": {},
   "outputs": [
    {
     "data": {
      "text/plain": [
       "RowNumber          0\n",
       "CustomerId         0\n",
       "Surname            0\n",
       "CreditScore        0\n",
       "Geography          0\n",
       "Gender             0\n",
       "Age                0\n",
       "Tenure             0\n",
       "Balance            0\n",
       "NumOfProducts      0\n",
       "HasCrCard          0\n",
       "IsActiveMember     0\n",
       "EstimatedSalary    0\n",
       "Exited             0\n",
       "dtype: int64"
      ]
     },
     "execution_count": 5,
     "metadata": {},
     "output_type": "execute_result"
    }
   ],
   "source": [
    "\n",
    "# Get all the null values from data set\n",
    "dataset.isnull().sum()"
   ]
  },
  {
   "cell_type": "code",
   "execution_count": 6,
   "id": "fc42c580",
   "metadata": {},
   "outputs": [
    {
     "data": {
      "text/html": [
       "<div>\n",
       "<style scoped>\n",
       "    .dataframe tbody tr th:only-of-type {\n",
       "        vertical-align: middle;\n",
       "    }\n",
       "\n",
       "    .dataframe tbody tr th {\n",
       "        vertical-align: top;\n",
       "    }\n",
       "\n",
       "    .dataframe thead th {\n",
       "        text-align: right;\n",
       "    }\n",
       "</style>\n",
       "<table border=\"1\" class=\"dataframe\">\n",
       "  <thead>\n",
       "    <tr style=\"text-align: right;\">\n",
       "      <th></th>\n",
       "      <th>CreditScore</th>\n",
       "      <th>Geography</th>\n",
       "      <th>Gender</th>\n",
       "      <th>Age</th>\n",
       "      <th>Tenure</th>\n",
       "      <th>Balance</th>\n",
       "      <th>NumOfProducts</th>\n",
       "      <th>HasCrCard</th>\n",
       "      <th>IsActiveMember</th>\n",
       "      <th>EstimatedSalary</th>\n",
       "      <th>Exited</th>\n",
       "    </tr>\n",
       "  </thead>\n",
       "  <tbody>\n",
       "    <tr>\n",
       "      <th>0</th>\n",
       "      <td>619</td>\n",
       "      <td>France</td>\n",
       "      <td>Female</td>\n",
       "      <td>42</td>\n",
       "      <td>2</td>\n",
       "      <td>0.00</td>\n",
       "      <td>1</td>\n",
       "      <td>1</td>\n",
       "      <td>1</td>\n",
       "      <td>101348.88</td>\n",
       "      <td>1</td>\n",
       "    </tr>\n",
       "    <tr>\n",
       "      <th>1</th>\n",
       "      <td>608</td>\n",
       "      <td>Spain</td>\n",
       "      <td>Female</td>\n",
       "      <td>41</td>\n",
       "      <td>1</td>\n",
       "      <td>83807.86</td>\n",
       "      <td>1</td>\n",
       "      <td>0</td>\n",
       "      <td>1</td>\n",
       "      <td>112542.58</td>\n",
       "      <td>0</td>\n",
       "    </tr>\n",
       "    <tr>\n",
       "      <th>2</th>\n",
       "      <td>502</td>\n",
       "      <td>France</td>\n",
       "      <td>Female</td>\n",
       "      <td>42</td>\n",
       "      <td>8</td>\n",
       "      <td>159660.80</td>\n",
       "      <td>3</td>\n",
       "      <td>1</td>\n",
       "      <td>0</td>\n",
       "      <td>113931.57</td>\n",
       "      <td>1</td>\n",
       "    </tr>\n",
       "    <tr>\n",
       "      <th>3</th>\n",
       "      <td>699</td>\n",
       "      <td>France</td>\n",
       "      <td>Female</td>\n",
       "      <td>39</td>\n",
       "      <td>1</td>\n",
       "      <td>0.00</td>\n",
       "      <td>2</td>\n",
       "      <td>0</td>\n",
       "      <td>0</td>\n",
       "      <td>93826.63</td>\n",
       "      <td>0</td>\n",
       "    </tr>\n",
       "    <tr>\n",
       "      <th>4</th>\n",
       "      <td>850</td>\n",
       "      <td>Spain</td>\n",
       "      <td>Female</td>\n",
       "      <td>43</td>\n",
       "      <td>2</td>\n",
       "      <td>125510.82</td>\n",
       "      <td>1</td>\n",
       "      <td>1</td>\n",
       "      <td>1</td>\n",
       "      <td>79084.10</td>\n",
       "      <td>0</td>\n",
       "    </tr>\n",
       "  </tbody>\n",
       "</table>\n",
       "</div>"
      ],
      "text/plain": [
       "   CreditScore Geography  Gender  Age  Tenure    Balance  NumOfProducts  \\\n",
       "0          619    France  Female   42       2       0.00              1   \n",
       "1          608     Spain  Female   41       1   83807.86              1   \n",
       "2          502    France  Female   42       8  159660.80              3   \n",
       "3          699    France  Female   39       1       0.00              2   \n",
       "4          850     Spain  Female   43       2  125510.82              1   \n",
       "\n",
       "   HasCrCard  IsActiveMember  EstimatedSalary  Exited  \n",
       "0          1               1        101348.88       1  \n",
       "1          0               1        112542.58       0  \n",
       "2          1               0        113931.57       1  \n",
       "3          0               0         93826.63       0  \n",
       "4          1               1         79084.10       0  "
      ]
     },
     "execution_count": 6,
     "metadata": {},
     "output_type": "execute_result"
    }
   ],
   "source": [
    "# Remove RowNumber, CustomerId, and Surname features\n",
    "dataset = dataset.drop(['RowNumber', 'CustomerId','Surname'], axis=1)\n",
    "\n",
    "dataset.head()\n",
    "# import libraries to labelEconder"
   ]
  },
  {
   "cell_type": "markdown",
   "id": "78099fca",
   "metadata": {},
   "source": [
    "### 2.2 Encoding categorical data"
   ]
  },
  {
   "cell_type": "code",
   "execution_count": 7,
   "id": "1077469d",
   "metadata": {},
   "outputs": [],
   "source": [
    "# Convert categorical variable into integers\n",
    "from sklearn.preprocessing import LabelEncoder\n",
    "le = LabelEncoder()\n",
    "\n",
    "\n",
    "dataset['Geography'] = le.fit_transform(dataset['Geography'])\n",
    "dataset['Gender'] = le.fit_transform(dataset['Gender'])\n"
   ]
  },
  {
   "cell_type": "code",
   "execution_count": 8,
   "id": "616f63c5",
   "metadata": {},
   "outputs": [
    {
     "data": {
      "text/plain": [
       "0    5014\n",
       "1    2509\n",
       "2    2477\n",
       "Name: Geography, dtype: int64"
      ]
     },
     "execution_count": 8,
     "metadata": {},
     "output_type": "execute_result"
    }
   ],
   "source": [
    "dataset.Geography.value_counts()"
   ]
  },
  {
   "cell_type": "code",
   "execution_count": 9,
   "id": "f11d595c",
   "metadata": {},
   "outputs": [
    {
     "data": {
      "text/plain": [
       "1    5457\n",
       "0    4543\n",
       "Name: Gender, dtype: int64"
      ]
     },
     "execution_count": 9,
     "metadata": {},
     "output_type": "execute_result"
    }
   ],
   "source": [
    "dataset.Gender.value_counts()"
   ]
  },
  {
   "cell_type": "code",
   "execution_count": 10,
   "id": "8066a714",
   "metadata": {},
   "outputs": [
    {
     "data": {
      "text/html": [
       "<div>\n",
       "<style scoped>\n",
       "    .dataframe tbody tr th:only-of-type {\n",
       "        vertical-align: middle;\n",
       "    }\n",
       "\n",
       "    .dataframe tbody tr th {\n",
       "        vertical-align: top;\n",
       "    }\n",
       "\n",
       "    .dataframe thead th {\n",
       "        text-align: right;\n",
       "    }\n",
       "</style>\n",
       "<table border=\"1\" class=\"dataframe\">\n",
       "  <thead>\n",
       "    <tr style=\"text-align: right;\">\n",
       "      <th></th>\n",
       "      <th>CreditScore</th>\n",
       "      <th>Geography</th>\n",
       "      <th>Gender</th>\n",
       "      <th>Age</th>\n",
       "      <th>Tenure</th>\n",
       "      <th>Balance</th>\n",
       "      <th>NumOfProducts</th>\n",
       "      <th>HasCrCard</th>\n",
       "      <th>IsActiveMember</th>\n",
       "      <th>EstimatedSalary</th>\n",
       "      <th>Exited</th>\n",
       "    </tr>\n",
       "  </thead>\n",
       "  <tbody>\n",
       "    <tr>\n",
       "      <th>0</th>\n",
       "      <td>619</td>\n",
       "      <td>0</td>\n",
       "      <td>0</td>\n",
       "      <td>42</td>\n",
       "      <td>2</td>\n",
       "      <td>0.00</td>\n",
       "      <td>1</td>\n",
       "      <td>1</td>\n",
       "      <td>1</td>\n",
       "      <td>101348.88</td>\n",
       "      <td>1</td>\n",
       "    </tr>\n",
       "    <tr>\n",
       "      <th>1</th>\n",
       "      <td>608</td>\n",
       "      <td>2</td>\n",
       "      <td>0</td>\n",
       "      <td>41</td>\n",
       "      <td>1</td>\n",
       "      <td>83807.86</td>\n",
       "      <td>1</td>\n",
       "      <td>0</td>\n",
       "      <td>1</td>\n",
       "      <td>112542.58</td>\n",
       "      <td>0</td>\n",
       "    </tr>\n",
       "    <tr>\n",
       "      <th>2</th>\n",
       "      <td>502</td>\n",
       "      <td>0</td>\n",
       "      <td>0</td>\n",
       "      <td>42</td>\n",
       "      <td>8</td>\n",
       "      <td>159660.80</td>\n",
       "      <td>3</td>\n",
       "      <td>1</td>\n",
       "      <td>0</td>\n",
       "      <td>113931.57</td>\n",
       "      <td>1</td>\n",
       "    </tr>\n",
       "    <tr>\n",
       "      <th>3</th>\n",
       "      <td>699</td>\n",
       "      <td>0</td>\n",
       "      <td>0</td>\n",
       "      <td>39</td>\n",
       "      <td>1</td>\n",
       "      <td>0.00</td>\n",
       "      <td>2</td>\n",
       "      <td>0</td>\n",
       "      <td>0</td>\n",
       "      <td>93826.63</td>\n",
       "      <td>0</td>\n",
       "    </tr>\n",
       "    <tr>\n",
       "      <th>4</th>\n",
       "      <td>850</td>\n",
       "      <td>2</td>\n",
       "      <td>0</td>\n",
       "      <td>43</td>\n",
       "      <td>2</td>\n",
       "      <td>125510.82</td>\n",
       "      <td>1</td>\n",
       "      <td>1</td>\n",
       "      <td>1</td>\n",
       "      <td>79084.10</td>\n",
       "      <td>0</td>\n",
       "    </tr>\n",
       "  </tbody>\n",
       "</table>\n",
       "</div>"
      ],
      "text/plain": [
       "   CreditScore  Geography  Gender  Age  Tenure    Balance  NumOfProducts  \\\n",
       "0          619          0       0   42       2       0.00              1   \n",
       "1          608          2       0   41       1   83807.86              1   \n",
       "2          502          0       0   42       8  159660.80              3   \n",
       "3          699          0       0   39       1       0.00              2   \n",
       "4          850          2       0   43       2  125510.82              1   \n",
       "\n",
       "   HasCrCard  IsActiveMember  EstimatedSalary  Exited  \n",
       "0          1               1        101348.88       1  \n",
       "1          0               1        112542.58       0  \n",
       "2          1               0        113931.57       1  \n",
       "3          0               0         93826.63       0  \n",
       "4          1               1         79084.10       0  "
      ]
     },
     "execution_count": 10,
     "metadata": {},
     "output_type": "execute_result"
    }
   ],
   "source": [
    "dataset.head()"
   ]
  },
  {
   "cell_type": "markdown",
   "id": "c49f32e5",
   "metadata": {},
   "source": [
    "### 2.3 Data Normalization"
   ]
  },
  {
   "cell_type": "code",
   "execution_count": 11,
   "id": "8e632414",
   "metadata": {},
   "outputs": [
    {
     "data": {
      "text/html": [
       "<div>\n",
       "<style scoped>\n",
       "    .dataframe tbody tr th:only-of-type {\n",
       "        vertical-align: middle;\n",
       "    }\n",
       "\n",
       "    .dataframe tbody tr th {\n",
       "        vertical-align: top;\n",
       "    }\n",
       "\n",
       "    .dataframe thead th {\n",
       "        text-align: right;\n",
       "    }\n",
       "</style>\n",
       "<table border=\"1\" class=\"dataframe\">\n",
       "  <thead>\n",
       "    <tr style=\"text-align: right;\">\n",
       "      <th></th>\n",
       "      <th>CreditScore</th>\n",
       "      <th>Geography</th>\n",
       "      <th>Gender</th>\n",
       "      <th>Age</th>\n",
       "      <th>Tenure</th>\n",
       "      <th>Balance</th>\n",
       "      <th>NumOfProducts</th>\n",
       "      <th>HasCrCard</th>\n",
       "      <th>IsActiveMember</th>\n",
       "      <th>EstimatedSalary</th>\n",
       "      <th>Exited</th>\n",
       "    </tr>\n",
       "  </thead>\n",
       "  <tbody>\n",
       "    <tr>\n",
       "      <th>0</th>\n",
       "      <td>0.538</td>\n",
       "      <td>0.0</td>\n",
       "      <td>0.0</td>\n",
       "      <td>0.324324</td>\n",
       "      <td>0.2</td>\n",
       "      <td>0.000000</td>\n",
       "      <td>0.000000</td>\n",
       "      <td>1.0</td>\n",
       "      <td>1.0</td>\n",
       "      <td>0.506735</td>\n",
       "      <td>1</td>\n",
       "    </tr>\n",
       "    <tr>\n",
       "      <th>1</th>\n",
       "      <td>0.516</td>\n",
       "      <td>1.0</td>\n",
       "      <td>0.0</td>\n",
       "      <td>0.310811</td>\n",
       "      <td>0.1</td>\n",
       "      <td>0.334031</td>\n",
       "      <td>0.000000</td>\n",
       "      <td>0.0</td>\n",
       "      <td>1.0</td>\n",
       "      <td>0.562709</td>\n",
       "      <td>0</td>\n",
       "    </tr>\n",
       "    <tr>\n",
       "      <th>2</th>\n",
       "      <td>0.304</td>\n",
       "      <td>0.0</td>\n",
       "      <td>0.0</td>\n",
       "      <td>0.324324</td>\n",
       "      <td>0.8</td>\n",
       "      <td>0.636357</td>\n",
       "      <td>0.666667</td>\n",
       "      <td>1.0</td>\n",
       "      <td>0.0</td>\n",
       "      <td>0.569654</td>\n",
       "      <td>1</td>\n",
       "    </tr>\n",
       "    <tr>\n",
       "      <th>3</th>\n",
       "      <td>0.698</td>\n",
       "      <td>0.0</td>\n",
       "      <td>0.0</td>\n",
       "      <td>0.283784</td>\n",
       "      <td>0.1</td>\n",
       "      <td>0.000000</td>\n",
       "      <td>0.333333</td>\n",
       "      <td>0.0</td>\n",
       "      <td>0.0</td>\n",
       "      <td>0.469120</td>\n",
       "      <td>0</td>\n",
       "    </tr>\n",
       "    <tr>\n",
       "      <th>4</th>\n",
       "      <td>1.000</td>\n",
       "      <td>1.0</td>\n",
       "      <td>0.0</td>\n",
       "      <td>0.337838</td>\n",
       "      <td>0.2</td>\n",
       "      <td>0.500246</td>\n",
       "      <td>0.000000</td>\n",
       "      <td>1.0</td>\n",
       "      <td>1.0</td>\n",
       "      <td>0.395400</td>\n",
       "      <td>0</td>\n",
       "    </tr>\n",
       "  </tbody>\n",
       "</table>\n",
       "</div>"
      ],
      "text/plain": [
       "   CreditScore  Geography  Gender       Age  Tenure   Balance  NumOfProducts  \\\n",
       "0        0.538        0.0     0.0  0.324324     0.2  0.000000       0.000000   \n",
       "1        0.516        1.0     0.0  0.310811     0.1  0.334031       0.000000   \n",
       "2        0.304        0.0     0.0  0.324324     0.8  0.636357       0.666667   \n",
       "3        0.698        0.0     0.0  0.283784     0.1  0.000000       0.333333   \n",
       "4        1.000        1.0     0.0  0.337838     0.2  0.500246       0.000000   \n",
       "\n",
       "   HasCrCard  IsActiveMember  EstimatedSalary  Exited  \n",
       "0        1.0             1.0         0.506735       1  \n",
       "1        0.0             1.0         0.562709       0  \n",
       "2        1.0             0.0         0.569654       1  \n",
       "3        0.0             0.0         0.469120       0  \n",
       "4        1.0             1.0         0.395400       0  "
      ]
     },
     "execution_count": 11,
     "metadata": {},
     "output_type": "execute_result"
    }
   ],
   "source": [
    "# Data Normalization\n",
    "\n",
    "from sklearn.preprocessing import MinMaxScaler\n",
    "\n",
    "mms = MinMaxScaler()\n",
    "\n",
    "columns = [\"CreditScore\",\"Geography\",\"Gender\",\"Age\",\"Tenure\",\"Balance\",\"NumOfProducts\",\"HasCrCard\",\n",
    "            \"IsActiveMember\",\"EstimatedSalary\"]\n",
    "\n",
    "dataset[columns]= mms.fit_transform(dataset[columns])\n",
    "\n",
    "dataset.head()"
   ]
  },
  {
   "cell_type": "markdown",
   "id": "eb03d1ed",
   "metadata": {},
   "source": [
    "# 3. Feature Engineering"
   ]
  },
  {
   "cell_type": "code",
   "execution_count": 12,
   "id": "5d437c1c",
   "metadata": {},
   "outputs": [
    {
     "name": "stdout",
     "output_type": "stream",
     "text": [
      "Index(['CreditScore', 'Geography', 'Gender', 'Age', 'Tenure', 'Balance',\n",
      "       'NumOfProducts', 'HasCrCard', 'IsActiveMember', 'EstimatedSalary'],\n",
      "      dtype='object')\n",
      "[1 0]\n"
     ]
    }
   ],
   "source": [
    "# X contains features\n",
    "X = dataset.drop([\"Exited\"],axis=1)\n",
    "\n",
    "# Y Target value\n",
    "y = dataset[\"Exited\"]\n",
    "\n",
    "print(X.columns)\n",
    "\n",
    "print(y.unique())"
   ]
  },
  {
   "cell_type": "markdown",
   "id": "9fa25330",
   "metadata": {},
   "source": [
    "# 4. Data Modeling"
   ]
  },
  {
   "cell_type": "markdown",
   "id": "9de9f414",
   "metadata": {},
   "source": [
    "### 4.1 Model Training with Logistic Regression"
   ]
  },
  {
   "cell_type": "code",
   "execution_count": 13,
   "id": "e5286492",
   "metadata": {},
   "outputs": [
    {
     "name": "stdout",
     "output_type": "stream",
     "text": [
      "(8000, 10)\n",
      "(2000, 10)\n",
      "(8000,)\n",
      "(2000,)\n"
     ]
    }
   ],
   "source": [
    "# Splitting Data into Training and Test Set\n",
    "from sklearn.model_selection import train_test_split\n",
    "\n",
    "X_train, X_test, y_train, y_test = train_test_split(X, y, test_size=0.2, random_state=0)\n",
    "print(X_train.shape)\n",
    "print(X_test.shape)\n",
    "print(y_train.shape)\n",
    "print(y_test.shape)"
   ]
  },
  {
   "cell_type": "code",
   "execution_count": 14,
   "id": "e0decf21",
   "metadata": {},
   "outputs": [],
   "source": [
    "from sklearn.linear_model import LogisticRegression\n",
    "\n",
    "logistic_regression = LogisticRegression()\n",
    "logistic_regression.fit(X_train, y_train)\n",
    "\n",
    "y_pred = logistic_regression.predict(X_test)\n"
   ]
  },
  {
   "cell_type": "markdown",
   "id": "be341296",
   "metadata": {},
   "source": [
    "# 5. Performance measurement"
   ]
  },
  {
   "cell_type": "code",
   "execution_count": 15,
   "id": "748e105f",
   "metadata": {
    "scrolled": false
   },
   "outputs": [
    {
     "name": "stdout",
     "output_type": "stream",
     "text": [
      "Confusion Matrix\n",
      "[[1549   46]\n",
      " [ 339   66]]\n",
      "\n",
      "Accuracy: 80.75%\n",
      "Precision: 58.93%\n",
      "Recall: 16.30%\n"
     ]
    }
   ],
   "source": [
    "from sklearn import metrics #confusion_matrix, classification_report, accuracy_score\n",
    "from sklearn.metrics import r2_score \n",
    "\n",
    "# Confusion Matrix, Accuracy, Precision, Recall metrics\n",
    "cnf_matrix = metrics.confusion_matrix(y_test,y_pred)\n",
    "accuracy =   metrics.accuracy_score(y_test, y_pred)\n",
    "precision =  metrics.precision_score(y_test, y_pred)\n",
    "recall =     metrics.recall_score(y_test, y_pred)\n",
    "\n",
    "print('Confusion Matrix')\n",
    "print(cnf_matrix)\n",
    "print('')\n",
    "\n",
    "print(f'Accuracy: {accuracy:.2%}')\n",
    "print(f'Precision: {precision:.2%}')\n",
    "print(f'Recall: {recall:.2%}')\n"
   ]
  },
  {
   "cell_type": "markdown",
   "id": "c2069da5",
   "metadata": {},
   "source": [
    "## We get an accuracy of 80.75%"
   ]
  },
  {
   "cell_type": "markdown",
   "id": "2ccd70b3",
   "metadata": {},
   "source": [
    "# 6. Visualizing Confusion Matrix using Heatmap"
   ]
  },
  {
   "cell_type": "code",
   "execution_count": 16,
   "id": "e4a82675",
   "metadata": {},
   "outputs": [
    {
     "data": {
      "text/plain": [
       "Text(0.5, 257.44, 'Predicted label')"
      ]
     },
     "execution_count": 16,
     "metadata": {},
     "output_type": "execute_result"
    },
    {
     "data": {
      "image/png": "[encoded data removed]",
      "text/plain": [
       "<Figure size 432x288 with 2 Axes>"
      ]
     },
     "metadata": {
      "needs_background": "light"
     },
     "output_type": "display_data"
    }
   ],
   "source": [
    "class_names=[0,1] # name  of classes\n",
    "fig, ax = plt.subplots()\n",
    "tick_marks = np.arange(len(class_names))\n",
    "plt.xticks(tick_marks, class_names)\n",
    "plt.yticks(tick_marks, class_names)\n",
    "\n",
    "# create heatmap\n",
    "sns.heatmap(pd.DataFrame(cnf_matrix), annot=True, cmap=\"YlGnBu\" ,fmt='g')\n",
    "ax.xaxis.set_label_position(\"top\")\n",
    "plt.tight_layout()\n",
    "plt.title('Confusion matrix', y=1.1)\n",
    "plt.ylabel('Actual label')\n",
    "plt.xlabel('Predicted label')\n"
   ]
  },
  {
   "cell_type": "markdown",
   "id": "08432e41",
   "metadata": {},
   "source": [
    "# 7. Building the Artificial Neural Network"
   ]
  },
  {
   "cell_type": "code",
   "execution_count": 17,
   "id": "ce265f04",
   "metadata": {},
   "outputs": [],
   "source": [
    "# Importing Keras libraries and packages\n",
    "import keras\n",
    "\n",
    "# For building the Neural Network layer by layer\n",
    "from keras.models import Sequential\n",
    "from keras.layers import Dense\n"
   ]
  },
  {
   "cell_type": "markdown",
   "id": "8a7a0cd4",
   "metadata": {},
   "source": [
    "### 7.1 Define Keras Model"
   ]
  },
  {
   "cell_type": "code",
   "execution_count": 18,
   "id": "f697740f",
   "metadata": {},
   "outputs": [],
   "source": [
    "# Define the keras model\n",
    "model = Sequential()\n",
    "\n",
    "# Adding first hidden layer\n",
    "model.add(Dense(11, activation = 'relu', input_dim = 10))\n",
    "\n",
    "# Adding second hidden layer\n",
    "model.add(Dense(8, activation = 'relu'))\n",
    "\n",
    "# Adding the output layer\n",
    "model.add(Dense(1, activation = 'sigmoid'))\n",
    "\n"
   ]
  },
  {
   "cell_type": "markdown",
   "id": "bbd39a57",
   "metadata": {},
   "source": [
    "### 7.2 Compiling the ANN"
   ]
  },
  {
   "cell_type": "code",
   "execution_count": 204,
   "id": "6ee75939",
   "metadata": {},
   "outputs": [
    {
     "name": "stdout",
     "output_type": "stream",
     "text": [
      "Epoch 1/100\n",
      "800/800 [==============================] - 1s 650us/step - loss: 0.5106 - accuracy: 0.7868\n",
      "Epoch 2/100\n",
      "800/800 [==============================] - 1s 674us/step - loss: 0.4788 - accuracy: 0.7960\n",
      "Epoch 3/100\n",
      "800/800 [==============================] - 1s 652us/step - loss: 0.4661 - accuracy: 0.7960\n",
      "Epoch 4/100\n",
      "800/800 [==============================] - 1s 642us/step - loss: 0.4501 - accuracy: 0.7989\n",
      "Epoch 5/100\n",
      "800/800 [==============================] - 1s 670us/step - loss: 0.4297 - accuracy: 0.8108\n",
      "Epoch 6/100\n",
      "800/800 [==============================] - 1s 697us/step - loss: 0.4055 - accuracy: 0.8278\n",
      "Epoch 7/100\n",
      "800/800 [==============================] - 0s 619us/step - loss: 0.3878 - accuracy: 0.8345\n",
      "Epoch 8/100\n",
      "800/800 [==============================] - 1s 654us/step - loss: 0.3767 - accuracy: 0.8445\n",
      "Epoch 9/100\n",
      "800/800 [==============================] - 1s 646us/step - loss: 0.3708 - accuracy: 0.8479\n",
      "Epoch 10/100\n",
      "800/800 [==============================] - 1s 690us/step - loss: 0.3669 - accuracy: 0.8457\n",
      "Epoch 11/100\n",
      "800/800 [==============================] - 0s 623us/step - loss: 0.3649 - accuracy: 0.8487\n",
      "Epoch 12/100\n",
      "800/800 [==============================] - 1s 633us/step - loss: 0.3638 - accuracy: 0.8537\n",
      "Epoch 13/100\n",
      "800/800 [==============================] - 1s 645us/step - loss: 0.3622 - accuracy: 0.8512\n",
      "Epoch 14/100\n",
      "800/800 [==============================] - 1s 655us/step - loss: 0.3615 - accuracy: 0.8504\n",
      "Epoch 15/100\n",
      "800/800 [==============================] - 1s 678us/step - loss: 0.3602 - accuracy: 0.8531\n",
      "Epoch 16/100\n",
      "800/800 [==============================] - 0s 623us/step - loss: 0.3593 - accuracy: 0.8546\n",
      "Epoch 17/100\n",
      "800/800 [==============================] - 1s 663us/step - loss: 0.3589 - accuracy: 0.8524\n",
      "Epoch 18/100\n",
      "800/800 [==============================] - 1s 639us/step - loss: 0.3586 - accuracy: 0.8561\n",
      "Epoch 19/100\n",
      "800/800 [==============================] - 0s 620us/step - loss: 0.3579 - accuracy: 0.8537\n",
      "Epoch 20/100\n",
      "800/800 [==============================] - 1s 634us/step - loss: 0.3573 - accuracy: 0.8533\n",
      "Epoch 21/100\n",
      "800/800 [==============================] - 1s 633us/step - loss: 0.3561 - accuracy: 0.8553\n",
      "Epoch 22/100\n",
      "800/800 [==============================] - 1s 644us/step - loss: 0.3560 - accuracy: 0.8562\n",
      "Epoch 23/100\n",
      "800/800 [==============================] - 1s 660us/step - loss: 0.3567 - accuracy: 0.8556\n",
      "Epoch 24/100\n",
      "800/800 [==============================] - 0s 624us/step - loss: 0.3552 - accuracy: 0.8566\n",
      "Epoch 25/100\n",
      "800/800 [==============================] - 0s 614us/step - loss: 0.3556 - accuracy: 0.8556\n",
      "Epoch 26/100\n",
      "800/800 [==============================] - 1s 627us/step - loss: 0.3552 - accuracy: 0.8558\n",
      "Epoch 27/100\n",
      "800/800 [==============================] - 1s 639us/step - loss: 0.3552 - accuracy: 0.8561\n",
      "Epoch 28/100\n",
      "800/800 [==============================] - 1s 628us/step - loss: 0.3546 - accuracy: 0.8561\n",
      "Epoch 29/100\n",
      "800/800 [==============================] - 1s 639us/step - loss: 0.3539 - accuracy: 0.8559\n",
      "Epoch 30/100\n",
      "800/800 [==============================] - 0s 614us/step - loss: 0.3537 - accuracy: 0.8574\n",
      "Epoch 31/100\n",
      "800/800 [==============================] - 0s 619us/step - loss: 0.3529 - accuracy: 0.8562\n",
      "Epoch 32/100\n",
      "800/800 [==============================] - 0s 614us/step - loss: 0.3539 - accuracy: 0.8554\n",
      "Epoch 33/100\n",
      "800/800 [==============================] - 0s 615us/step - loss: 0.3530 - accuracy: 0.8576\n",
      "Epoch 34/100\n",
      "800/800 [==============================] - 0s 615us/step - loss: 0.3524 - accuracy: 0.8564\n",
      "Epoch 35/100\n",
      "800/800 [==============================] - 1s 627us/step - loss: 0.3521 - accuracy: 0.8571\n",
      "Epoch 36/100\n",
      "800/800 [==============================] - 1s 629us/step - loss: 0.3519 - accuracy: 0.8583\n",
      "Epoch 37/100\n",
      "800/800 [==============================] - 0s 617us/step - loss: 0.3531 - accuracy: 0.8569\n",
      "Epoch 38/100\n",
      "800/800 [==============================] - 0s 618us/step - loss: 0.3521 - accuracy: 0.8577\n",
      "Epoch 39/100\n",
      "800/800 [==============================] - 0s 615us/step - loss: 0.3506 - accuracy: 0.8574\n",
      "Epoch 40/100\n",
      "800/800 [==============================] - 0s 618us/step - loss: 0.3514 - accuracy: 0.8571\n",
      "Epoch 41/100\n",
      "800/800 [==============================] - 0s 616us/step - loss: 0.3513 - accuracy: 0.8575\n",
      "Epoch 42/100\n",
      "800/800 [==============================] - 0s 617us/step - loss: 0.3505 - accuracy: 0.8556\n",
      "Epoch 43/100\n",
      "800/800 [==============================] - 0s 617us/step - loss: 0.3506 - accuracy: 0.8580\n",
      "Epoch 44/100\n",
      "800/800 [==============================] - 0s 614us/step - loss: 0.3519 - accuracy: 0.8564\n",
      "Epoch 45/100\n",
      "800/800 [==============================] - 1s 633us/step - loss: 0.3500 - accuracy: 0.8574\n",
      "Epoch 46/100\n",
      "800/800 [==============================] - 0s 610us/step - loss: 0.3498 - accuracy: 0.8562\n",
      "Epoch 47/100\n",
      "800/800 [==============================] - 0s 618us/step - loss: 0.3507 - accuracy: 0.8595\n",
      "Epoch 48/100\n",
      "800/800 [==============================] - 0s 624us/step - loss: 0.3501 - accuracy: 0.8574\n",
      "Epoch 49/100\n",
      "800/800 [==============================] - 0s 614us/step - loss: 0.3491 - accuracy: 0.8562\n",
      "Epoch 50/100\n",
      "800/800 [==============================] - 0s 618us/step - loss: 0.3489 - accuracy: 0.8583\n",
      "Epoch 51/100\n",
      "800/800 [==============================] - 0s 617us/step - loss: 0.3484 - accuracy: 0.8569\n",
      "Epoch 52/100\n",
      "800/800 [==============================] - 0s 619us/step - loss: 0.3482 - accuracy: 0.8551\n",
      "Epoch 53/100\n",
      "800/800 [==============================] - 0s 617us/step - loss: 0.3485 - accuracy: 0.8572\n",
      "Epoch 54/100\n",
      "800/800 [==============================] - 0s 615us/step - loss: 0.3479 - accuracy: 0.8570\n",
      "Epoch 55/100\n",
      "800/800 [==============================] - 0s 617us/step - loss: 0.3479 - accuracy: 0.8581\n",
      "Epoch 56/100\n",
      "800/800 [==============================] - 0s 614us/step - loss: 0.3468 - accuracy: 0.8579\n",
      "Epoch 57/100\n",
      "800/800 [==============================] - 0s 613us/step - loss: 0.3476 - accuracy: 0.8580\n",
      "Epoch 58/100\n",
      "800/800 [==============================] - 0s 614us/step - loss: 0.3464 - accuracy: 0.8580\n",
      "Epoch 59/100\n",
      "800/800 [==============================] - 0s 614us/step - loss: 0.3473 - accuracy: 0.8577\n",
      "Epoch 60/100\n",
      "800/800 [==============================] - 0s 615us/step - loss: 0.3453 - accuracy: 0.8571\n",
      "Epoch 61/100\n",
      "800/800 [==============================] - 1s 632us/step - loss: 0.3457 - accuracy: 0.8576\n",
      "Epoch 62/100\n",
      "800/800 [==============================] - 0s 613us/step - loss: 0.3442 - accuracy: 0.8595\n",
      "Epoch 63/100\n",
      "800/800 [==============================] - 0s 617us/step - loss: 0.3444 - accuracy: 0.8581\n",
      "Epoch 64/100\n",
      "800/800 [==============================] - 0s 614us/step - loss: 0.3444 - accuracy: 0.8566\n",
      "Epoch 65/100\n",
      "800/800 [==============================] - 0s 615us/step - loss: 0.3428 - accuracy: 0.8569\n",
      "Epoch 66/100\n",
      "800/800 [==============================] - 0s 614us/step - loss: 0.3432 - accuracy: 0.8566\n",
      "Epoch 67/100\n",
      "800/800 [==============================] - 0s 614us/step - loss: 0.3438 - accuracy: 0.8576\n",
      "Epoch 68/100\n",
      "800/800 [==============================] - 0s 614us/step - loss: 0.3425 - accuracy: 0.8576\n",
      "Epoch 69/100\n",
      "800/800 [==============================] - 0s 617us/step - loss: 0.3419 - accuracy: 0.8583\n",
      "Epoch 70/100\n",
      "800/800 [==============================] - 0s 619us/step - loss: 0.3418 - accuracy: 0.8586\n",
      "Epoch 71/100\n",
      "800/800 [==============================] - 0s 614us/step - loss: 0.3419 - accuracy: 0.8581\n",
      "Epoch 72/100\n",
      "800/800 [==============================] - 0s 614us/step - loss: 0.3411 - accuracy: 0.8597\n",
      "Epoch 73/100\n",
      "800/800 [==============================] - 0s 614us/step - loss: 0.3403 - accuracy: 0.8581\n",
      "Epoch 74/100\n",
      "800/800 [==============================] - 0s 617us/step - loss: 0.3418 - accuracy: 0.8583\n",
      "Epoch 75/100\n",
      "800/800 [==============================] - 0s 612us/step - loss: 0.3404 - accuracy: 0.8612\n",
      "Epoch 76/100\n",
      "800/800 [==============================] - 0s 615us/step - loss: 0.3400 - accuracy: 0.8601\n",
      "Epoch 77/100\n",
      "800/800 [==============================] - 1s 637us/step - loss: 0.3403 - accuracy: 0.8599\n",
      "Epoch 78/100\n",
      "800/800 [==============================] - 0s 612us/step - loss: 0.3404 - accuracy: 0.8576\n",
      "Epoch 79/100\n",
      "800/800 [==============================] - 0s 615us/step - loss: 0.3399 - accuracy: 0.8587\n",
      "Epoch 80/100\n",
      "800/800 [==============================] - 0s 615us/step - loss: 0.3399 - accuracy: 0.8597\n",
      "Epoch 81/100\n",
      "800/800 [==============================] - 0s 615us/step - loss: 0.3395 - accuracy: 0.8606\n",
      "Epoch 82/100\n",
      "800/800 [==============================] - 0s 614us/step - loss: 0.3392 - accuracy: 0.8583\n",
      "Epoch 83/100\n",
      "800/800 [==============================] - 0s 615us/step - loss: 0.3399 - accuracy: 0.8581\n",
      "Epoch 84/100\n",
      "800/800 [==============================] - 0s 613us/step - loss: 0.3398 - accuracy: 0.8590\n",
      "Epoch 85/100\n",
      "800/800 [==============================] - 0s 615us/step - loss: 0.3391 - accuracy: 0.8594\n",
      "Epoch 86/100\n",
      "800/800 [==============================] - 0s 614us/step - loss: 0.3389 - accuracy: 0.8602\n",
      "Epoch 87/100\n",
      "800/800 [==============================] - 0s 614us/step - loss: 0.3381 - accuracy: 0.8581\n",
      "Epoch 88/100\n",
      "800/800 [==============================] - 0s 612us/step - loss: 0.3383 - accuracy: 0.8595\n",
      "Epoch 89/100\n",
      "800/800 [==============================] - 0s 616us/step - loss: 0.3388 - accuracy: 0.8595\n",
      "Epoch 90/100\n",
      "800/800 [==============================] - 0s 613us/step - loss: 0.3386 - accuracy: 0.8593\n",
      "Epoch 91/100\n",
      "800/800 [==============================] - 0s 609us/step - loss: 0.3384 - accuracy: 0.8602\n",
      "Epoch 92/100\n",
      "800/800 [==============================] - 0s 614us/step - loss: 0.3389 - accuracy: 0.8604\n",
      "Epoch 93/100\n",
      "800/800 [==============================] - 0s 618us/step - loss: 0.3376 - accuracy: 0.8621\n",
      "Epoch 94/100\n",
      "800/800 [==============================] - 0s 618us/step - loss: 0.3372 - accuracy: 0.8601\n",
      "Epoch 95/100\n",
      "800/800 [==============================] - 0s 614us/step - loss: 0.3378 - accuracy: 0.8595\n",
      "Epoch 96/100\n",
      "800/800 [==============================] - 0s 620us/step - loss: 0.3378 - accuracy: 0.8571\n",
      "Epoch 97/100\n",
      "800/800 [==============================] - 0s 614us/step - loss: 0.3379 - accuracy: 0.8604\n",
      "Epoch 98/100\n",
      "800/800 [==============================] - 0s 618us/step - loss: 0.3381 - accuracy: 0.8604\n",
      "Epoch 99/100\n",
      "800/800 [==============================] - 0s 613us/step - loss: 0.3374 - accuracy: 0.8599\n",
      "Epoch 100/100\n",
      "800/800 [==============================] - 1s 628us/step - loss: 0.3371 - accuracy: 0.8610\n"
     ]
    },
    {
     "data": {
      "text/plain": [
       "<keras.callbacks.History at 0x21aa2840fa0>"
      ]
     },
     "execution_count": 204,
     "metadata": {},
     "output_type": "execute_result"
    }
   ],
   "source": [
    "model.compile(loss='binary_crossentropy', optimizer='adam', metrics=['accuracy'])\n",
    "model.fit(X_train, y_train, epochs=100, batch_size=10)\n"
   ]
  },
  {
   "cell_type": "markdown",
   "id": "6bcfa7f4",
   "metadata": {},
   "source": [
    "### It will take around a minute to train. And after 100 epochs the neural network will be trained. The training accuracy is reached 86.10 % so our model is trained.\n"
   ]
  },
  {
   "cell_type": "markdown",
   "id": "9a1296c2",
   "metadata": {},
   "source": [
    "# 8. ANN Performance measurement"
   ]
  },
  {
   "cell_type": "code",
   "execution_count": 206,
   "id": "5a29a827",
   "metadata": {},
   "outputs": [
    {
     "name": "stdout",
     "output_type": "stream",
     "text": [
      "63/63 [==============================] - 0s 563us/step - loss: 0.3373 - accuracy: 0.8630\n"
     ]
    },
    {
     "data": {
      "text/plain": [
       "[0.33725443482398987, 0.8629999756813049]"
      ]
     },
     "execution_count": 206,
     "metadata": {},
     "output_type": "execute_result"
    }
   ],
   "source": [
    "# evalute the model\n",
    "model.evaluate(X_test,y_test)"
   ]
  },
  {
   "cell_type": "markdown",
   "id": "d3fd7da2",
   "metadata": {},
   "source": [
    "## The accuracy of the ANN model is 86.3%."
   ]
  },
  {
   "cell_type": "markdown",
   "id": "9f3bac7f",
   "metadata": {},
   "source": [
    "# 9. Visualizing Confusion Matrix using Heatmap\n"
   ]
  },
  {
   "cell_type": "code",
   "execution_count": 218,
   "id": "818381d1",
   "metadata": {},
   "outputs": [
    {
     "data": {
      "text/plain": [
       "Text(0.5, 257.44, 'Predicted label')"
      ]
     },
     "execution_count": 218,
     "metadata": {},
     "output_type": "execute_result"
    },
    {
     "data": {
      "image/png": "[encoded data removed]",
      "text/plain": [
       "<Figure size 432x288 with 2 Axes>"
      ]
     },
     "metadata": {
      "needs_background": "light"
     },
     "output_type": "display_data"
    }
   ],
   "source": [
    "class_names=[0,1] # name  of classes\n",
    "fig, ax = plt.subplots()\n",
    "tick_marks = np.arange(len(class_names))\n",
    "plt.xticks(tick_marks, class_names)\n",
    "plt.yticks(tick_marks, class_names)\n",
    "\n",
    "# create heatmap\n",
    "sns.heatmap(pd.DataFrame(cm), annot=True, cmap=\"YlGnBu\" ,fmt='g')\n",
    "ax.xaxis.set_label_position(\"top\")\n",
    "plt.tight_layout()\n",
    "plt.title('Confusion matrix', y=1.1)\n",
    "plt.ylabel('Actual label')\n",
    "plt.xlabel('Predicted label')"
   ]
  },
  {
   "cell_type": "markdown",
   "id": "e90a977a",
   "metadata": {},
   "source": [
    "# 10. Compare performance between two algorithms"
   ]
  },
  {
   "cell_type": "markdown",
   "id": "bb0c580e",
   "metadata": {},
   "source": [
    "## The accurracy of the logistic regression in this model is: 80.75%\n",
    "## The accuracy of the Artificial Neural Network is: 86.3%"
   ]
  }
 ],
 "metadata": {
  "kernelspec": {
   "display_name": "Python 3 (ipykernel)",
   "language": "python",
   "name": "python3"
  },
  "language_info": {
   "codemirror_mode": {
    "name": "ipython",
    "version": 3
   },
   "file_extension": ".py",
   "mimetype": "text/x-python",
   "name": "python",
   "nbconvert_exporter": "python",
   "pygments_lexer": "ipython3",
   "version": "3.10.2"
  }
 },
 "nbformat": 4,
 "nbformat_minor": 5
}
